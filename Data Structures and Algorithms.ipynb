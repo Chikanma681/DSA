{
 "cells": [
  {
   "cell_type": "markdown",
   "metadata": {},
   "source": [
    "### Big O Notation \n",
    "#### Time and Space Complexity \n",
    "\n",
    "- Time complexity is used to determine how number of operations grows with size of input \n",
    "\n",
    "- Constants are usually dropped n^2 -n is O(n^2)\n",
    "\n",
    "- Different types of notation\n",
    "\n",
    "constant, linear, logarithms, logarithms * linear, exponential, factorial\n",
    "\n",
    "- Space complexity deals with how space was used \n",
    "\n"
   ]
  },
  {
   "cell_type": "markdown",
   "metadata": {},
   "source": [
    "## Stack and Queues\n",
    "\n",
    "\n",
    "##### Stacks Implementation\n",
    "\n",
    "- Stacks are data structures where you can only and  remove from the top. Similar to a stack of books analogy\n",
    "\n",
    "- First In Last Out\n"
   ]
  },
  {
   "cell_type": "code",
   "execution_count": 3,
   "metadata": {},
   "outputs": [
    {
     "name": "stdout",
     "output_type": "stream",
     "text": [
      "['a', 'b']\n",
      "['a']\n",
      "D\n",
      "['a', 'D']\n"
     ]
    }
   ],
   "source": [
    "class Stack:\n",
    "    def __init__(self):\n",
    "        self.items = []\n",
    "        \n",
    "    def push(self,item):\n",
    "        self.items.append(item)\n",
    "    \n",
    "    def pop(self):\n",
    "        return self.items.pop()\n",
    "    \n",
    "    def is_empty(self):\n",
    "        return self.items == []\n",
    "    \n",
    "    def peek(self):\n",
    "        if not self.is_empty():\n",
    "            return self.items[-1]\n",
    "        \n",
    "    def get_stack(self):\n",
    "        return self.items\n",
    "    \n",
    "    \n",
    "# Testing out our stack\n",
    "stack = Stack()\n",
    "stack.push(\"a\")\n",
    "stack.push(\"b\")\n",
    "print(stack.get_stack())\n",
    "stack.pop()\n",
    "print(stack.get_stack())\n",
    "stack.push(\"D\")\n",
    "print(stack.peek())\n",
    "print(stack.get_stack())\n",
    "\n",
    "\n",
    "\n",
    "\n",
    "\n"
   ]
  },
  {
   "cell_type": "markdown",
   "metadata": {},
   "source": [
    "#### Balanced Brackets"
   ]
  },
  {
   "cell_type": "code",
   "execution_count": null,
   "metadata": {},
   "outputs": [],
   "source": [
    "def balancedBrackets(data):\n",
    "    s = Stack()\n",
    "    balanced = True\n",
    "    index = 0\n",
    "    \n",
    "    while index < len(data) and balanced:\n",
    "        bracket = data[index]\n",
    "        if bracket in \"([{\":\n",
    "            s.push(bracket)\n",
    "        else:\n",
    "            if s.is_empty():\n",
    "                balanced = False\n",
    "                break\n",
    "            else:\n",
    "                top = s.pop()\n",
    "                if not is_match(top, bracket):\n",
    "                    balanced = False\n",
    "                    break\n",
    "        index +=1\n",
    "            \n",
    "    if s.is_empty()and balanced :\n",
    "        return True\n",
    "    else:\n",
    "        return False\n",
    "    \n",
    "## is Match function\n",
    "\n",
    "def is_match(p1,p2):\n",
    "    if p1 == \"(\" and p2 == \")\":\n",
    "        return True\n",
    "    elif p1 == \"{\" and p2 == \"}\":\n",
    "        return True\n",
    "    elif p1 == \"[\" and p2 == \"]\":\n",
    "        return True\n",
    "    else:\n",
    "        return False\n",
    "\n",
    "print(\"String : (((({})))) Balanced or not?\")\n",
    "print(balancedBrackets(\"(((({}))))\"))\n",
    "\n",
    "print(\"String : [][]]] Balanced or not?\")\n",
    "print(balancedBrackets(\"[][]]]\"))\n",
    "\n",
    "print(\"String : [][] Balanced or not?\")\n",
    "print(balancedBrackets(\"[][]\"))"
   ]
  },
  {
   "cell_type": "markdown",
   "metadata": {},
   "source": [
    "#### Reverse Strings"
   ]
  },
  {
   "cell_type": "code",
   "execution_count": 7,
   "metadata": {},
   "outputs": [
    {
     "name": "stdout",
     "output_type": "stream",
     "text": [
      "Welcome to Educative!\n"
     ]
    }
   ],
   "source": [
    "def reverse_string(stack, string):\n",
    "    for i in range(len(string)):\n",
    "        stack.push(string[i])\n",
    "    rev_str =\"\"\n",
    "    while not stack.is_empty():\n",
    "        rev_str+=stack.pop()\n",
    "    return rev_str\n",
    "\n",
    "stack = Stack()\n",
    "input_str = \"!evitacudE ot emocleW\"\n",
    "print(reverse_string(stack, input_str))"
   ]
  },
  {
   "cell_type": "markdown",
   "metadata": {},
   "source": [
    "#### Convert Integer to Binary"
   ]
  },
  {
   "cell_type": "code",
   "execution_count": 4,
   "metadata": {},
   "outputs": [
    {
     "name": "stdout",
     "output_type": "stream",
     "text": [
      "121\n",
      "rem 0\n",
      "60\n",
      "rem 1\n",
      "30\n",
      "rem 0\n",
      "15\n",
      "rem 0\n",
      "7\n",
      "rem 1\n",
      "3\n",
      "rem 1\n",
      "1\n",
      "rem 1\n",
      "0\n",
      "rem 1\n",
      "11110010\n"
     ]
    }
   ],
   "source": [
    "stack = Stack()\n",
    "def convert_int_to_bin(dec_num):\n",
    "  value = dec_num\n",
    "  \n",
    "  bin = \"\"\n",
    "  zero_log=0\n",
    "  while value and zero_log<=2:\n",
    "    remainder = value%2\n",
    "    value = value//2\n",
    "    print(value)\n",
    "    \n",
    "    print(\"rem\",remainder)\n",
    "    stack.push(remainder)\n",
    "    if value == 0:\n",
    "      zero_log+=1\n",
    "  \n",
    "  # print(stack.get_stack())\n",
    "  for i in range(len(stack.items)):\n",
    "    bin += str(stack.pop())\n",
    "\n",
    "  return int(bin)\n",
    "\n",
    "print(convert_int_to_bin(242))"
   ]
  },
  {
   "cell_type": "markdown",
   "metadata": {},
   "source": [
    "#### Queues\n",
    "\n",
    "- Queues are similar to stack but the difference. Items are removed from the front and added to the back. First in First Out\n",
    "-  In Python , we can implement queues in three ways. First using List, Collections.deque and queue module\n",
    "- Enqueue - adds item to the queue\n",
    "- Dequeue - removes an item from the queue. \n",
    "- Front - gives the front item from the queue\n",
    "- Rear - gives the last item from the queue\n",
    "\n"
   ]
  },
  {
   "cell_type": "code",
   "execution_count": 6,
   "metadata": {},
   "outputs": [
    {
     "name": "stdout",
     "output_type": "stream",
     "text": [
      "['A']\n"
     ]
    }
   ],
   "source": [
    "class Stack:\n",
    "    def __init__(self):\n",
    "        self.items = []\n",
    "        \n",
    "    def enqueue(self,item):\n",
    "        self.items.append(item)\n",
    "    \n",
    "    def dequeue(self):\n",
    "        return self.items.pop(0)\n",
    "    \n",
    "    def front(self):\n",
    "        return self.items[0]\n",
    "    \n",
    "    def rear(self):\n",
    "        return self.items[-1]\n",
    "        \n",
    "    def get_queue(self):\n",
    "        return self.items\n",
    "    \n"
   ]
  },
  {
   "cell_type": "markdown",
   "metadata": {},
   "source": [
    "## Linked List\n",
    "\n",
    "- Data Structures that consists on linked nodes\n",
    "- there are three data linked lists - Singly, Circular and Doubly"
   ]
  },
  {
   "cell_type": "code",
   "execution_count": 1,
   "metadata": {},
   "outputs": [],
   "source": [
    "# Linked List Implementation\n",
    "\n",
    "class Node:\n",
    "    def __init__(self,data):\n",
    "        self.data = data\n",
    "        self.next =  None\n",
    "        \n",
    "class LinkedList:\n",
    "    def __init__(self):\n",
    "        self.head = None\n",
    "        \n",
    "\n",
    "        "
   ]
  }
 ],
 "metadata": {
  "kernelspec": {
   "display_name": "Python 3.8.3 ('base')",
   "language": "python",
   "name": "python3"
  },
  "language_info": {
   "codemirror_mode": {
    "name": "ipython",
    "version": 3
   },
   "file_extension": ".py",
   "mimetype": "text/x-python",
   "name": "python",
   "nbconvert_exporter": "python",
   "pygments_lexer": "ipython3",
   "version": "3.8.3"
  },
  "vscode": {
   "interpreter": {
    "hash": "cf332bf42fc0fc838fed16fe9ba9972108e03b5adc5d4be7ba9a8f0c6d7c61a6"
   }
  }
 },
 "nbformat": 4,
 "nbformat_minor": 4
}
